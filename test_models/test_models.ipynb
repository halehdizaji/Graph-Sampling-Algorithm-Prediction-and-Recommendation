{
  "cells": [
    {
      "cell_type": "code",
      "execution_count": null,
      "id": "738bb100-a2c6-484f-81d2-ac42e2f50f4e",
      "metadata": {
        "id": "738bb100-a2c6-484f-81d2-ac42e2f50f4e"
      },
      "outputs": [],
      "source": [
        "import pandas as pd\n",
        "from sklearn.model_selection import train_test_split\n",
        "from sklearn.model_selection import GridSearchCV\n",
        "from sklearn.neighbors import KNeighborsRegressor\n",
        "from sklearn.neural_network import MLPRegressor\n",
        "from sklearn.ensemble import RandomForestRegressor"
      ]
    },
    {
      "cell_type": "code",
      "execution_count": null,
      "id": "72974c1a-f6bb-4cd5-b93c-ad17ebe7b8d7",
      "metadata": {
        "id": "72974c1a-f6bb-4cd5-b93c-ad17ebe7b8d7"
      },
      "outputs": [],
      "source": [
        "import warnings\n",
        "warnings.filterwarnings('ignore')"
      ]
    },
    {
      "cell_type": "code",
      "execution_count": null,
      "id": "9b4a8a15-f369-4237-b518-5101159dcfb4",
      "metadata": {
        "id": "9b4a8a15-f369-4237-b518-5101159dcfb4"
      },
      "outputs": [],
      "source": [
        "# zakaj potrebujem ponovno celotni pipeline?\n",
        "# - smo normalizirali target values? ker se lahko drugače nauči za 0.1 in 0.3\n",
        "# - smo ločili 0.1 in 0.3? Ker če ima skoraj vse iste vhodne podatke, je smiselno, da se loči?"
      ]
    },
    {
      "cell_type": "code",
      "execution_count": null,
      "id": "583e3589-21fb-4995-9ca1-bf2c3f43e3a5",
      "metadata": {
        "id": "583e3589-21fb-4995-9ca1-bf2c3f43e3a5"
      },
      "outputs": [],
      "source": [
        "def get_graph_features():\n",
        "    return []"
      ]
    },
    {
      "cell_type": "code",
      "execution_count": null,
      "id": "c0410fbe-9df8-46cf-91b5-65ebea6d3242",
      "metadata": {
        "id": "c0410fbe-9df8-46cf-91b5-65ebea6d3242"
      },
      "outputs": [],
      "source": [
        "# features_set_D3: 1\n",
        "\n",
        "def get_graph_features_D3():\n",
        "    # write feature set into file\n",
        "    return ['clust_coeff_calc_time', 'connected_components_calc_time', 'degree_assortativity', 'degree_assortativity_calc_time', 'edge_nums', 'edge_count/node_count', 'eigenvector_centrality_calc_time',\n",
        "            'graph_density', 'clust_coeff_max', 'max_connected_components_size', 'degree_max', 'degrees_spanning_tree_max', 'eigenvector_centrality_min', 'node_betweenness_centrality_max',\n",
        "            'pagerank_centrality_max', 'shortest_path_length_max', 'max_spanning_tree_calc_time', 'clust_coeff_avg', 'mean_connected_components_size', 'degree_avg', 'degrees_spanning_tree_avg',\n",
        "            'eigenvector_centrality_avg', 'node_betweenness_centrality_avg', 'shortest_path_length_avg', 'clust_coeff_median', 'median_connected_components_size', 'degree_median',\n",
        "            'degrees_spanning_tree_median', 'eigenvector_centrality_median', 'node_betweenness_centrality_median', 'pagerank_centrality_median', 'clust_coeff_min', 'min_connected_components_size',\n",
        "            'degree_min', 'degrees_spanning_tree_min', 'eigenvector_centrality_min', 'node_betweenness_centrality_min', 'pagerank_centrality_min', 'shortest_path_length_min', 'node_count/edge_count',\n",
        "            'num_connected_components', 'pagerank_centrality_calc_time', 'clust_coeff_var', 'var_connected_components_size', 'degree_var', 'degrees_spanning_tree_var', 'eigenvector_centrality_var',\n",
        "            'node_betweenness_centrality_var', 'pagerank_centrality_var', 'shortest_path_length_var']"
      ]
    },
    {
      "cell_type": "code",
      "execution_count": null,
      "id": "63511e1a-27c7-48c9-9767-928ff1bdb776",
      "metadata": {
        "id": "63511e1a-27c7-48c9-9767-928ff1bdb776"
      },
      "outputs": [],
      "source": [
        "# features_set_C2D2: 1\n",
        "\n",
        "def get_graph_features_C2D2():\n",
        "    # write feature set into file\n",
        "    return ['clust_coeff_calc_time', 'connected_components_calc_time', 'degree_assortativity', 'degree_assortativity_calc_time', 'eigenvector_centrality_calc_time', 'max_connected_components_size',\n",
        "            'eigenvector_centrality_min', 'node_betweenness_centrality_max', 'pagerank_centrality_max', 'max_spanning_tree_calc_time', 'clust_coeff_avg', 'mean_connected_components_size',\n",
        "            'degrees_spanning_tree_avg', 'eigenvector_centrality_avg', 'node_betweenness_centrality_avg', 'pagerank_centrality_avg', 'shortest_path_length_avg', 'clust_coeff_median',\n",
        "            'median_connected_components_size', 'eigenvector_centrality_median', 'node_betweenness_centrality_median', 'pagerank_centrality_median', 'clust_coeff_min', 'min_connected_components_size',\n",
        "            'pagerank_centrality_min', 'shortest_path_length_min', 'node_nums', 'pagerank_centrality_calc_time', 'sampling_percent', 'clust_coeff_var', 'degree_var', 'node_betweenness_centrality_var',\n",
        "            'pagerank_centrality_var']"
      ]
    },
    {
      "cell_type": "code",
      "execution_count": null,
      "id": "b6ef9a52-c042-494c-8f52-b82d591464ca",
      "metadata": {
        "id": "b6ef9a52-c042-494c-8f52-b82d591464ca"
      },
      "outputs": [],
      "source": [
        "# features_set_run_time: 1\n",
        "# to correct\n",
        "def get_graph_features_run_time():\n",
        "    # write feature set into file\n",
        "    return ['clust_coeff_calc_time', 'connected_components_calc_time', 'degree_assortativity_calc_time', 'edge_nums', 'eigenvector_centrality_calc_time', 'graph_density',\n",
        "            'max_connected_components_size', 'max_spanning_tree_calc_time', 'mean_connected_components_size', 'eigenvector_centrality_avg', 'node_betweenness_centrality_avg',\n",
        "            'pagerank_centrality_avg', 'median_connected_components_size', 'eigenvector_centrality_median', 'node_betweenness_centrality_median', 'pagerank_centrality_median',\n",
        "            'min_connected_components_size', 'pagerank_centrality_min', 'shortest_path_length_min', 'node_nums', 'pagerank_centrality_calc_time', 'run_time var', 'sampling_percent', 'pagerank_centrality_var']\n"
      ]
    },
    {
      "cell_type": "code",
      "execution_count": null,
      "id": "d690a739-2b51-410c-8b7c-741cdabf6020",
      "metadata": {
        "id": "d690a739-2b51-410c-8b7c-741cdabf6020"
      },
      "outputs": [],
      "source": [
        "# features_set_run_time: 1\n",
        "# to correct\n",
        "def get_graph_features_HPD2():\n",
        "    # write feature set into file\n",
        "    return ['clust_coeff_calc_time', 'graph_density', 'max_connected_components_size', 'degree_max', 'degrees_spanning_tree_max', 'node_betweenness_centrality_max', 'mean_connected_components_size',\n",
        "            'pagerank_centrality_avg', 'clust_coeff_median', 'degrees_spanning_tree_median', 'shortest_path_length_min', 'node_nums', 'num_connected_components', 'pagerank_centrality_calc_time',\n",
        "            'degree_var', 'degrees_spanning_tree_var']"
      ]
    },
    {
      "cell_type": "code",
      "execution_count": null,
      "id": "24166368-c93c-4044-aeaf-3dc4201d885c",
      "metadata": {
        "id": "24166368-c93c-4044-aeaf-3dc4201d885c"
      },
      "outputs": [],
      "source": [
        "# features_set_run_time: 1\n",
        "# to correct\n",
        "def get_graph_features_HPD2_LCC():\n",
        "    # write feature set into file\n",
        "    return ['connected_components_calc_time', 'degrees_spanning_tree_max', 'pagerank_centrality_avg', 'clust_coeff_min', 'shortest_path_length_min', 'node_nums', 'sampling_percent',\n",
        "            'var_connected_components_size', 'shortest_path_length_var']"
      ]
    },
    {
      "cell_type": "code",
      "execution_count": null,
      "id": "5e7359d9-75db-4af1-8a6a-caf01cd5b394",
      "metadata": {
        "id": "5e7359d9-75db-4af1-8a6a-caf01cd5b394"
      },
      "outputs": [],
      "source": [
        "def get_sampler_features():\n",
        "    return ['sampling_percent', 'forest fire', 'random degree node', 'random edge', 'random jump', 'random node', 'random node edge', 'snowball', 'frontier', 'rank degree', 'induced random edge', 'metropolis hastings random walk', 'expansion', 'sampler_type_node_based', 'sampler_type_edge_based', 'sampler_type_traversal_based']"
      ]
    },
    {
      "cell_type": "code",
      "execution_count": null,
      "id": "47749cec-e08f-41c3-b8be-aefe347b97c7",
      "metadata": {
        "id": "47749cec-e08f-41c3-b8be-aefe347b97c7"
      },
      "outputs": [],
      "source": [
        "def get_execution_time_features():\n",
        "    return ['clust_coeff_calc_time', 'node_edge_betweenness_centrality_calc_time',\n",
        "       'connected_components_calc_time', 'pagerank_centrality_calc_time', 'eigenvector_centrality_calc_time',\n",
        "       'max_spanning_tree_calc_time', 'degree_assortativity_calc_time']"
      ]
    },
    {
      "cell_type": "code",
      "execution_count": null,
      "id": "58243069-fdfe-4164-859b-03701147a4b1",
      "metadata": {
        "id": "58243069-fdfe-4164-859b-03701147a4b1"
      },
      "outputs": [],
      "source": [
        "def get_features(metric):\n",
        "    if metric == 'D3':\n",
        "        return get_graph_features_D3()+get_sampler_features()\n",
        "    if metric == 'C2D2':\n",
        "        return get_graph_features_C2D2()+get_sampler_features()\n",
        "    if metric == 'HPD2':\n",
        "        return get_graph_features_HPD2()+get_sampler_features()\n",
        "    if metric == 'HPD2_LCC':\n",
        "        return get_graph_features_HPD2_LCC()+get_sampler_features()\n",
        "    if metric == 'run_time':\n",
        "        return get_graph_features_run_time()+get_sampler_features()"
      ]
    },
    {
      "cell_type": "code",
      "execution_count": null,
      "id": "9673b828-f808-4de8-a28e-af8199ae7293",
      "metadata": {
        "id": "9673b828-f808-4de8-a28e-af8199ae7293"
      },
      "outputs": [],
      "source": [
        "def get_model_and_params(algorithm):\n",
        "    if algorithm=='RF':\n",
        "        model = RandomForestRegressor(random_state=0)\n",
        "        params = {'bootstrap':[True], 'max_depth':[None, 90, 100, 110], 'max_features': [2, 3], 'min_samples_leaf': [2, 3, 4, 5],\n",
        "                  'min_samples_split': [8, 10, 12], 'n_estimators': [100, 200, 300, 400]}\n",
        "    if algorithm=='MLP':\n",
        "        model = MLPRegressor(random_state=1, max_iter=500)\n",
        "        params = {'hidden_layer_sizes': [(30), (50), (100), (30,30), (50,50), (100,100)],\n",
        "                      'activation': ['tanh', 'relu'], 'solver': ['sgd', 'adam'], 'alpha': [0.0001, 0.05],\n",
        "                      'learning_rate': ['constant', 'adaptive'], 'shuffle': [True], 'early_stopping': [True]}\n",
        "    if algorithm=='kNN':\n",
        "        model = KNeighborsRegressor()\n",
        "        params = {'n_neighbors': [4, 5, 10, 15], 'weights': ['uniform', 'distance'], 'algorithm': ['auto', 'ball_tree', 'kd_tree', 'brute']}\n",
        "    return model, params"
      ]
    },
    {
      "cell_type": "code",
      "execution_count": null,
      "id": "aeaf4a23-8d5a-43d3-b32c-dea6ebf5e795",
      "metadata": {
        "id": "aeaf4a23-8d5a-43d3-b32c-dea6ebf5e795"
      },
      "outputs": [],
      "source": [
        "def train_model(train_set, features, algorithm, target):\n",
        "    model, params = get_model_and_params(algorithm)\n",
        "    optimized = GridSearchCV(model, params)\n",
        "    optimized.fit(train_set[features], train_set[[target]])\n",
        "    return optimized"
      ]
    },
    {
      "cell_type": "code",
      "execution_count": null,
      "id": "8aea8633-b6d8-4a57-ab3e-2e5209c10f46",
      "metadata": {
        "id": "8aea8633-b6d8-4a57-ab3e-2e5209c10f46"
      },
      "outputs": [],
      "source": [
        "def export_result(df, columns, target_col, pred_col, synthetic, metric, algorithm, model_num, res_version):\n",
        "    result = df[columns].copy(deep=True)\n",
        "    result.rename(columns={target_col: 'target', pred_col: 'pred'}, inplace=True)\n",
        "    result.to_csv(root_folder + 'results/model_' + model_num + '/{}-{}-{}-feature-set-{}{}.csv'.format(synthetic, metric, algorithm, feature_set_num, res_version), index=False)"
      ]
    },
    {
      "cell_type": "code",
      "execution_count": null,
      "id": "110b9e35-ef50-44b5-aea9-28960bbcd067",
      "metadata": {
        "id": "110b9e35-ef50-44b5-aea9-28960bbcd067"
      },
      "outputs": [],
      "source": [
        "def export_features(feature_list, metric, algorithm, model_num, root_folder):\n",
        "    with open(root_folder + '/results/model_' + model_num + '/features-{}-{}-feature-set-{}.csv'.format(metric, algorithm, feature_set_num), 'w') as the_file:\n",
        "        the_file.write(','.join(feature_list))"
      ]
    },
    {
      "cell_type": "code",
      "execution_count": null,
      "id": "1dfa3126-180a-4d86-a020-6341999b78ef",
      "metadata": {
        "id": "1dfa3126-180a-4d86-a020-6341999b78ef"
      },
      "outputs": [],
      "source": [
        "def data_quality_check(df):\n",
        "    print(df.columns[df.isna().any()].tolist())"
      ]
    },
    {
      "cell_type": "code",
      "execution_count": null,
      "id": "8c1f1c92-f8a0-4724-9a5e-d1bc5c08c89e",
      "metadata": {
        "id": "8c1f1c92-f8a0-4724-9a5e-d1bc5c08c89e"
      },
      "outputs": [],
      "source": [
        "def get_features_set_num(target):\n",
        "    if target == 'D3':\n",
        "        return features_set_D3\n",
        "    elif target == 'C2D2':\n",
        "        return features_set_C2D2\n",
        "    elif target == 'HPD2':\n",
        "        return features_set_HPD2\n",
        "    elif target == 'run_time':\n",
        "        return features_set_run_time\n",
        "    elif target == 'HPD2_LCC':\n",
        "        return features_set_HPD2_LCC"
      ]
    },
    {
      "cell_type": "code",
      "execution_count": null,
      "id": "a1dcc500-7e26-4f5a-984e-31d417220d62",
      "metadata": {
        "id": "a1dcc500-7e26-4f5a-984e-31d417220d62"
      },
      "outputs": [],
      "source": [
        "import os\n",
        "import pickle\n",
        "\n",
        "data_type = 'syn'\n",
        "dataset_num = '1'\n",
        "features_set_C2D2 = '2'\n",
        "features_set_D3 = '2'\n",
        "features_set_run_time = '2'\n",
        "features_set_HPD2 = '2'\n",
        "features_set_HPD2_LCC = '2'\n",
        "root_folder = 'drive/MyDrive/Research/Projects/Graph_Sampling_Prediction/notebooks-export/'\n",
        "data_folder_addr = root_folder + 'data/real_graphs/set_' + dataset_num + '/'\n",
        "model_num = '1'\n",
        "result_folder_name = data_type + '_set_' + dataset_num\n",
        "result_dir = root_folder + 'results/' + result_folder_name\n",
        "if not os.path.exists(result_dir):\n",
        "    os.makedirs(result_dir)\n",
        "\n",
        "model_params = {}\n",
        "#for target in ['D3', 'C2D2','HPD2', 'HPD2_LCC', 'run_time']:\n",
        "for target in ['run_time']:\n",
        "    features = get_features(target)\n",
        "    pred_colname = '{}_pred'.format(target)\n",
        "    result_cols = ['graph_ID', 'node_nums', 'graph_density', 'sampling_percent', 'sampling algorithm', target, pred_colname]\n",
        "    #test_set_synth = df[(df['partition']=='test') & (df['synthetic']=='synthetic')].reset_index()\n",
        "    df = pd.read_csv(data_folder_addr + '{}_v3.csv'.format(target))\n",
        "    #print('df dim ', df.shape)\n",
        "    test_set_rw = df[(df['partition']=='test') & (df['synthetic']=='realworld')].reset_index()\n",
        "    model_params[target]={}\n",
        "    feature_set_num = get_features_set_num(target)\n",
        "    for algorithm in ['kNN', 'RF', 'MLP']:\n",
        "        #for algorithm in ['kNN', 'MLP']: #['RF', 'kNN', 'MLP', 'LR', 'NB']\n",
        "        print('Testing {} for {}'.format(algorithm, target))\n",
        "        model_filename = root_folder + 'out/models/{}-{}-{}-feature-set-{}.pickle'.format(model_num, algorithm, target, feature_set_num)\n",
        "        print('model file name ', model_filename)\n",
        "        with open(model_filename, 'rb') as f:\n",
        "            model = pickle.load(f)\n",
        "        model_params[target][algorithm]=model.best_params_\n",
        "        #print('test ', test_set_synth['sampling_algorithm'])\n",
        "        print('start predict ')\n",
        "        # temp\n",
        "        #features = [f for f in features if not f in ['forest fire', 'random node edge', 'frontier', 'rank degree', 'induced random edge', 'expansion']]\n",
        "\n",
        "        #test_set_synth[pred_colname] = model.predict(test_set_synth[features])\n",
        "        print('df[features]: ', df[features])\n",
        "        test_set_rw[pred_colname] = model.predict(df[features])\n",
        "        #print('test ', test_set_synth['sampling_algorithm'])\n",
        "        #export_result(test_set_synth, result_cols, target, pred_colname, 'synthetic', target, algorithm, model_num, result_folder_name)\n",
        "        export_result(test_set_rw, result_cols, target, pred_colname, 'real_world', target, algorithm, model_num, result_folder_name)\n",
        "        export_features(features, target, algorithm, model_num, result_folder_name)\n"
      ]
    },
    {
      "cell_type": "code",
      "source": [
        "# test models\n",
        "\n",
        "import pickle as pickle\n",
        "model_params = {}\n",
        "features_set_C2D2 = '2'\n",
        "features_set_D3 = '2'\n",
        "features_set_HPD2 = '2'\n",
        "features_set_HPD2_LCC = '2'\n",
        "features_set_run_time = '2'\n",
        "model_num = '2'\n",
        "res_version = '_v4'\n",
        "root_folder = 'drive/MyDrive/Research/Projects/Graph_Sampling_Prediction/notebooks-export/'\n",
        "data_folder = 'data/model_' + model_num\n",
        "#result_dir = root_folder + '/results/' + result_folder_name\n",
        "#if not os.path.exists(result_dir):\n",
        "#    os.makedirs(result_dir)\n",
        "\n",
        "for target in ['run_time']:\n",
        "#for target in ['HPD2_LCC']:\n",
        "    df = pd.read_csv(root_folder + data_folder + '/{}{}.csv'.format(target, res_version))\n",
        "    feature_set_num = get_features_set_num(target)\n",
        "    #train_set = df[(df['partition']=='train')].reset_index()\n",
        "    test_set_synth_medium = df[(df['partition']=='test') & (df['synthetic']=='synthetic_medium')].reset_index()\n",
        "    test_set_synth_large = df[(df['partition']=='test') & (df['synthetic']=='synthetic_large')].reset_index()\n",
        "    test_set_rw_medium = df[(df['partition']=='test') & (df['synthetic']=='realworld_medium')].reset_index()\n",
        "    test_set_rw_large = df[(df['partition']=='test') & (df['synthetic']=='realworld_large')].reset_index()\n",
        "\n",
        "    features = get_features(target)\n",
        "    pred_colname = '{}_pred'.format(target)\n",
        "    result_cols = ['graph_ID', 'node_nums', 'graph_density', 'sampling_percent', 'sampling algorithm', target, pred_colname]\n",
        "    #result_cols = ['graph type', 'node_nums', 'graph_density', 'graph param', 'sample_rates', 'sampling_algorithm', target, pred_colname]\n",
        "    model_params[target]={}\n",
        "    #for algorithm in ['RF']:\n",
        "    for algorithm in ['RF', 'MLP']: #['RF', 'kNN', 'MLP', 'LR', 'NB']\n",
        "        print('Testing {} for {}'.format(algorithm, target))\n",
        "        #print(train_set[features])\n",
        "        #print(train_set[target])\n",
        "        filename = root_folder + '/out/models/{}-{}-{}-feature-set-{}.pickle'.format(model_num, algorithm, target, feature_set_num)\n",
        "        model = pickle.load(open(filename, 'rb'))\n",
        "        model_params[target][algorithm]=model.best_params_\n",
        "\n",
        "        test_set_synth_medium[pred_colname] = model.predict(test_set_synth_medium[features])\n",
        "        test_set_synth_large[pred_colname] = model.predict(test_set_synth_large[features])\n",
        "        test_set_rw_medium[pred_colname] = model.predict(test_set_rw_medium[features])\n",
        "        test_set_rw_large[pred_colname] = model.predict(test_set_rw_large[features])\n",
        "\n",
        "        export_result(test_set_synth_medium, result_cols, target, pred_colname, 'synthetic_medium', target, algorithm, model_num, res_version)\n",
        "        export_result(test_set_rw_medium, result_cols, target, pred_colname, 'real_world_medium', target, algorithm, model_num, res_version)\n",
        "        export_result(test_set_synth_large, result_cols, target, pred_colname, 'synthetic_large', target, algorithm, model_num, res_version)\n",
        "        export_result(test_set_rw_large, result_cols, target, pred_colname, 'real_world_large', target, algorithm, model_num, res_version)\n",
        "        export_features(features, target, algorithm, model_num, root_folder)"
      ],
      "metadata": {
        "colab": {
          "base_uri": "https://localhost:8080/"
        },
        "id": "GbmKxCNL5_9R",
        "outputId": "7ff4f780-774f-4b57-a471-42864185ab03"
      },
      "id": "GbmKxCNL5_9R",
      "execution_count": null,
      "outputs": [
        {
          "output_type": "stream",
          "name": "stdout",
          "text": [
            "Testing RF for run_time\n",
            "Testing MLP for run_time\n"
          ]
        }
      ]
    },
    {
      "cell_type": "code",
      "source": [
        "from google.colab import drive\n",
        "drive.mount('/content/drive')"
      ],
      "metadata": {
        "colab": {
          "base_uri": "https://localhost:8080/"
        },
        "id": "snbLK3HjhAP6",
        "outputId": "328a8631-44f0-4f2f-b162-49585f121c16"
      },
      "id": "snbLK3HjhAP6",
      "execution_count": null,
      "outputs": [
        {
          "output_type": "stream",
          "name": "stdout",
          "text": [
            "Mounted at /content/drive\n"
          ]
        }
      ]
    },
    {
      "cell_type": "code",
      "source": [
        "from google.colab import drive\n",
        "#drive.flush_and_unmount()\n",
        "drive.mount('/content/fdrive',  force_remount=True)"
      ],
      "metadata": {
        "colab": {
          "base_uri": "https://localhost:8080/"
        },
        "id": "jT-Y_C3L4oFD",
        "outputId": "ffb7f94f-f926-4e8d-f198-a2d108e81820"
      },
      "id": "jT-Y_C3L4oFD",
      "execution_count": null,
      "outputs": [
        {
          "output_type": "stream",
          "name": "stdout",
          "text": [
            "Mounted at /content/fdrive\n"
          ]
        }
      ]
    },
    {
      "cell_type": "code",
      "execution_count": null,
      "id": "7fedf87f-2f12-44d9-902e-dca4e44d3fc8",
      "metadata": {
        "id": "7fedf87f-2f12-44d9-902e-dca4e44d3fc8",
        "outputId": "0f695723-f8a3-41d5-d1b7-a695c7a9ad2d"
      },
      "outputs": [
        {
          "name": "stdout",
          "output_type": "stream",
          "text": [
            "4.0\n"
          ]
        }
      ],
      "source": [
        "\n",
        "print(pickle.format_version)"
      ]
    },
    {
      "cell_type": "code",
      "execution_count": null,
      "id": "cf981479-3e75-4128-a365-0f9c207d35a6",
      "metadata": {
        "id": "cf981479-3e75-4128-a365-0f9c207d35a6"
      },
      "outputs": [],
      "source": [
        "# Best model for RF@runtime: {'bootstrap': True, 'max_depth': None, 'max_features': 3, 'min_samples_leaf': 2, 'min_samples_split': 8, 'n_estimators': 100}\n",
        "\n",
        "import json\n",
        "\n",
        "with open('out/models/model_params-D3.json', 'w') as fp:\n",
        "    json.dump(model_params, fp)"
      ]
    },
    {
      "cell_type": "code",
      "source": [
        "# models param\n",
        "import pickle\n",
        "import pandas as pd\n",
        "\n",
        "root_folder = 'drive/MyDrive/Research/Projects/Graph_Sampling_Prediction/notebooks-export/'\n",
        "model_num = '2'\n",
        "algorithms = ['kNN', 'RF', 'MLP']\n",
        "targets = ['D3', 'C2D2','HPD2', 'HPD2_LCC']#, 'run_time']\n",
        "feature_set_num = '2'\n",
        "model_params = {'Model': [], 'Parameter': [], 'D3': [], 'C2D2':[], 'HPD2': [], 'HPD2_LCC': []}\n",
        "for algorithm in  algorithms:\n",
        "  target = 'D3'\n",
        "  model_filename = root_folder + 'out/models/{}-{}-{}-feature-set-{}.pickle'.format(model_num, algorithm, target, feature_set_num)\n",
        "  with open(model_filename, 'rb') as f:\n",
        "    model = pickle.load(f)\n",
        "  params = model.best_params_\n",
        "  for param in params:\n",
        "    model_params['Model'].append(algorithm)\n",
        "    model_params['Parameter'].append(param)\n",
        "\n",
        "\n",
        "for target in targets:\n",
        "  #print(target)\n",
        "  for algorithm in algorithms:\n",
        "    #print(algorithm)\n",
        "    model_filename = root_folder + 'out/models/{}-{}-{}-feature-set-{}.pickle'.format(model_num, algorithm, target, feature_set_num)\n",
        "    with open(model_filename, 'rb') as f:\n",
        "      model = pickle.load(f)\n",
        "    params = model.best_params_\n",
        "    for param in params:\n",
        "      model_params[target].append(params[str(param)])\n",
        "    #print(model.best_params_)\n",
        "print(model_params)\n",
        "pd.DataFrame(model_params)"
      ],
      "metadata": {
        "colab": {
          "base_uri": "https://localhost:8080/",
          "height": 701
        },
        "id": "51oMPnKcRkYb",
        "outputId": "7fc2d27d-92b2-466d-c3bc-cfeaab45925a"
      },
      "id": "51oMPnKcRkYb",
      "execution_count": null,
      "outputs": [
        {
          "output_type": "stream",
          "name": "stdout",
          "text": [
            "{'Model': ['kNN', 'kNN', 'kNN', 'RF', 'RF', 'RF', 'RF', 'RF', 'RF', 'MLP', 'MLP', 'MLP', 'MLP', 'MLP', 'MLP', 'MLP'], 'Parameter': ['algorithm', 'n_neighbors', 'weights', 'bootstrap', 'max_depth', 'max_features', 'min_samples_leaf', 'min_samples_split', 'n_estimators', 'activation', 'alpha', 'early_stopping', 'hidden_layer_sizes', 'learning_rate', 'shuffle', 'solver'], 'D3': ['auto', 4, 'distance', True, None, 3, 2, 8, 100, 'tanh', 0.0001, True, (100, 100), 'constant', True, 'adam'], 'C2D2': ['ball_tree', 4, 'distance', True, None, 3, 2, 8, 400, 'tanh', 0.0001, True, (30, 30), 'constant', True, 'adam'], 'HPD2': ['ball_tree', 15, 'distance', True, None, 3, 2, 8, 400, 'relu', 0.0001, True, (100, 100), 'constant', True, 'adam'], 'HPD2_LCC': ['ball_tree', 10, 'distance', True, None, 3, 2, 8, 400, 'relu', 0.0001, True, (50, 50), 'constant', True, 'adam']}\n"
          ]
        },
        {
          "output_type": "execute_result",
          "data": {
            "text/plain": [
              "   Model           Parameter          D3       C2D2        HPD2   HPD2_LCC\n",
              "0    kNN           algorithm        auto  ball_tree   ball_tree  ball_tree\n",
              "1    kNN         n_neighbors           4          4          15         10\n",
              "2    kNN             weights    distance   distance    distance   distance\n",
              "3     RF           bootstrap        True       True        True       True\n",
              "4     RF           max_depth        None       None        None       None\n",
              "5     RF        max_features           3          3           3          3\n",
              "6     RF    min_samples_leaf           2          2           2          2\n",
              "7     RF   min_samples_split           8          8           8          8\n",
              "8     RF        n_estimators         100        400         400        400\n",
              "9    MLP          activation        tanh       tanh        relu       relu\n",
              "10   MLP               alpha      0.0001     0.0001      0.0001     0.0001\n",
              "11   MLP      early_stopping        True       True        True       True\n",
              "12   MLP  hidden_layer_sizes  (100, 100)   (30, 30)  (100, 100)   (50, 50)\n",
              "13   MLP       learning_rate    constant   constant    constant   constant\n",
              "14   MLP             shuffle        True       True        True       True\n",
              "15   MLP              solver        adam       adam        adam       adam"
            ],
            "text/html": [
              "\n",
              "  <div id=\"df-51800e71-9323-4158-a2f6-f13e1f001ed0\" class=\"colab-df-container\">\n",
              "    <div>\n",
              "<style scoped>\n",
              "    .dataframe tbody tr th:only-of-type {\n",
              "        vertical-align: middle;\n",
              "    }\n",
              "\n",
              "    .dataframe tbody tr th {\n",
              "        vertical-align: top;\n",
              "    }\n",
              "\n",
              "    .dataframe thead th {\n",
              "        text-align: right;\n",
              "    }\n",
              "</style>\n",
              "<table border=\"1\" class=\"dataframe\">\n",
              "  <thead>\n",
              "    <tr style=\"text-align: right;\">\n",
              "      <th></th>\n",
              "      <th>Model</th>\n",
              "      <th>Parameter</th>\n",
              "      <th>D3</th>\n",
              "      <th>C2D2</th>\n",
              "      <th>HPD2</th>\n",
              "      <th>HPD2_LCC</th>\n",
              "    </tr>\n",
              "  </thead>\n",
              "  <tbody>\n",
              "    <tr>\n",
              "      <th>0</th>\n",
              "      <td>kNN</td>\n",
              "      <td>algorithm</td>\n",
              "      <td>auto</td>\n",
              "      <td>ball_tree</td>\n",
              "      <td>ball_tree</td>\n",
              "      <td>ball_tree</td>\n",
              "    </tr>\n",
              "    <tr>\n",
              "      <th>1</th>\n",
              "      <td>kNN</td>\n",
              "      <td>n_neighbors</td>\n",
              "      <td>4</td>\n",
              "      <td>4</td>\n",
              "      <td>15</td>\n",
              "      <td>10</td>\n",
              "    </tr>\n",
              "    <tr>\n",
              "      <th>2</th>\n",
              "      <td>kNN</td>\n",
              "      <td>weights</td>\n",
              "      <td>distance</td>\n",
              "      <td>distance</td>\n",
              "      <td>distance</td>\n",
              "      <td>distance</td>\n",
              "    </tr>\n",
              "    <tr>\n",
              "      <th>3</th>\n",
              "      <td>RF</td>\n",
              "      <td>bootstrap</td>\n",
              "      <td>True</td>\n",
              "      <td>True</td>\n",
              "      <td>True</td>\n",
              "      <td>True</td>\n",
              "    </tr>\n",
              "    <tr>\n",
              "      <th>4</th>\n",
              "      <td>RF</td>\n",
              "      <td>max_depth</td>\n",
              "      <td>None</td>\n",
              "      <td>None</td>\n",
              "      <td>None</td>\n",
              "      <td>None</td>\n",
              "    </tr>\n",
              "    <tr>\n",
              "      <th>5</th>\n",
              "      <td>RF</td>\n",
              "      <td>max_features</td>\n",
              "      <td>3</td>\n",
              "      <td>3</td>\n",
              "      <td>3</td>\n",
              "      <td>3</td>\n",
              "    </tr>\n",
              "    <tr>\n",
              "      <th>6</th>\n",
              "      <td>RF</td>\n",
              "      <td>min_samples_leaf</td>\n",
              "      <td>2</td>\n",
              "      <td>2</td>\n",
              "      <td>2</td>\n",
              "      <td>2</td>\n",
              "    </tr>\n",
              "    <tr>\n",
              "      <th>7</th>\n",
              "      <td>RF</td>\n",
              "      <td>min_samples_split</td>\n",
              "      <td>8</td>\n",
              "      <td>8</td>\n",
              "      <td>8</td>\n",
              "      <td>8</td>\n",
              "    </tr>\n",
              "    <tr>\n",
              "      <th>8</th>\n",
              "      <td>RF</td>\n",
              "      <td>n_estimators</td>\n",
              "      <td>100</td>\n",
              "      <td>400</td>\n",
              "      <td>400</td>\n",
              "      <td>400</td>\n",
              "    </tr>\n",
              "    <tr>\n",
              "      <th>9</th>\n",
              "      <td>MLP</td>\n",
              "      <td>activation</td>\n",
              "      <td>tanh</td>\n",
              "      <td>tanh</td>\n",
              "      <td>relu</td>\n",
              "      <td>relu</td>\n",
              "    </tr>\n",
              "    <tr>\n",
              "      <th>10</th>\n",
              "      <td>MLP</td>\n",
              "      <td>alpha</td>\n",
              "      <td>0.0001</td>\n",
              "      <td>0.0001</td>\n",
              "      <td>0.0001</td>\n",
              "      <td>0.0001</td>\n",
              "    </tr>\n",
              "    <tr>\n",
              "      <th>11</th>\n",
              "      <td>MLP</td>\n",
              "      <td>early_stopping</td>\n",
              "      <td>True</td>\n",
              "      <td>True</td>\n",
              "      <td>True</td>\n",
              "      <td>True</td>\n",
              "    </tr>\n",
              "    <tr>\n",
              "      <th>12</th>\n",
              "      <td>MLP</td>\n",
              "      <td>hidden_layer_sizes</td>\n",
              "      <td>(100, 100)</td>\n",
              "      <td>(30, 30)</td>\n",
              "      <td>(100, 100)</td>\n",
              "      <td>(50, 50)</td>\n",
              "    </tr>\n",
              "    <tr>\n",
              "      <th>13</th>\n",
              "      <td>MLP</td>\n",
              "      <td>learning_rate</td>\n",
              "      <td>constant</td>\n",
              "      <td>constant</td>\n",
              "      <td>constant</td>\n",
              "      <td>constant</td>\n",
              "    </tr>\n",
              "    <tr>\n",
              "      <th>14</th>\n",
              "      <td>MLP</td>\n",
              "      <td>shuffle</td>\n",
              "      <td>True</td>\n",
              "      <td>True</td>\n",
              "      <td>True</td>\n",
              "      <td>True</td>\n",
              "    </tr>\n",
              "    <tr>\n",
              "      <th>15</th>\n",
              "      <td>MLP</td>\n",
              "      <td>solver</td>\n",
              "      <td>adam</td>\n",
              "      <td>adam</td>\n",
              "      <td>adam</td>\n",
              "      <td>adam</td>\n",
              "    </tr>\n",
              "  </tbody>\n",
              "</table>\n",
              "</div>\n",
              "    <div class=\"colab-df-buttons\">\n",
              "\n",
              "  <div class=\"colab-df-container\">\n",
              "    <button class=\"colab-df-convert\" onclick=\"convertToInteractive('df-51800e71-9323-4158-a2f6-f13e1f001ed0')\"\n",
              "            title=\"Convert this dataframe to an interactive table.\"\n",
              "            style=\"display:none;\">\n",
              "\n",
              "  <svg xmlns=\"http://www.w3.org/2000/svg\" height=\"24px\" viewBox=\"0 -960 960 960\">\n",
              "    <path d=\"M120-120v-720h720v720H120Zm60-500h600v-160H180v160Zm220 220h160v-160H400v160Zm0 220h160v-160H400v160ZM180-400h160v-160H180v160Zm440 0h160v-160H620v160ZM180-180h160v-160H180v160Zm440 0h160v-160H620v160Z\"/>\n",
              "  </svg>\n",
              "    </button>\n",
              "\n",
              "  <style>\n",
              "    .colab-df-container {\n",
              "      display:flex;\n",
              "      gap: 12px;\n",
              "    }\n",
              "\n",
              "    .colab-df-convert {\n",
              "      background-color: #E8F0FE;\n",
              "      border: none;\n",
              "      border-radius: 50%;\n",
              "      cursor: pointer;\n",
              "      display: none;\n",
              "      fill: #1967D2;\n",
              "      height: 32px;\n",
              "      padding: 0 0 0 0;\n",
              "      width: 32px;\n",
              "    }\n",
              "\n",
              "    .colab-df-convert:hover {\n",
              "      background-color: #E2EBFA;\n",
              "      box-shadow: 0px 1px 2px rgba(60, 64, 67, 0.3), 0px 1px 3px 1px rgba(60, 64, 67, 0.15);\n",
              "      fill: #174EA6;\n",
              "    }\n",
              "\n",
              "    .colab-df-buttons div {\n",
              "      margin-bottom: 4px;\n",
              "    }\n",
              "\n",
              "    [theme=dark] .colab-df-convert {\n",
              "      background-color: #3B4455;\n",
              "      fill: #D2E3FC;\n",
              "    }\n",
              "\n",
              "    [theme=dark] .colab-df-convert:hover {\n",
              "      background-color: #434B5C;\n",
              "      box-shadow: 0px 1px 3px 1px rgba(0, 0, 0, 0.15);\n",
              "      filter: drop-shadow(0px 1px 2px rgba(0, 0, 0, 0.3));\n",
              "      fill: #FFFFFF;\n",
              "    }\n",
              "  </style>\n",
              "\n",
              "    <script>\n",
              "      const buttonEl =\n",
              "        document.querySelector('#df-51800e71-9323-4158-a2f6-f13e1f001ed0 button.colab-df-convert');\n",
              "      buttonEl.style.display =\n",
              "        google.colab.kernel.accessAllowed ? 'block' : 'none';\n",
              "\n",
              "      async function convertToInteractive(key) {\n",
              "        const element = document.querySelector('#df-51800e71-9323-4158-a2f6-f13e1f001ed0');\n",
              "        const dataTable =\n",
              "          await google.colab.kernel.invokeFunction('convertToInteractive',\n",
              "                                                    [key], {});\n",
              "        if (!dataTable) return;\n",
              "\n",
              "        const docLinkHtml = 'Like what you see? Visit the ' +\n",
              "          '<a target=\"_blank\" href=https://colab.research.google.com/notebooks/data_table.ipynb>data table notebook</a>'\n",
              "          + ' to learn more about interactive tables.';\n",
              "        element.innerHTML = '';\n",
              "        dataTable['output_type'] = 'display_data';\n",
              "        await google.colab.output.renderOutput(dataTable, element);\n",
              "        const docLink = document.createElement('div');\n",
              "        docLink.innerHTML = docLinkHtml;\n",
              "        element.appendChild(docLink);\n",
              "      }\n",
              "    </script>\n",
              "  </div>\n",
              "\n",
              "\n",
              "<div id=\"df-44ac280a-7d4c-41d7-82e9-ed9e6aaeef85\">\n",
              "  <button class=\"colab-df-quickchart\" onclick=\"quickchart('df-44ac280a-7d4c-41d7-82e9-ed9e6aaeef85')\"\n",
              "            title=\"Suggest charts\"\n",
              "            style=\"display:none;\">\n",
              "\n",
              "<svg xmlns=\"http://www.w3.org/2000/svg\" height=\"24px\"viewBox=\"0 0 24 24\"\n",
              "     width=\"24px\">\n",
              "    <g>\n",
              "        <path d=\"M19 3H5c-1.1 0-2 .9-2 2v14c0 1.1.9 2 2 2h14c1.1 0 2-.9 2-2V5c0-1.1-.9-2-2-2zM9 17H7v-7h2v7zm4 0h-2V7h2v10zm4 0h-2v-4h2v4z\"/>\n",
              "    </g>\n",
              "</svg>\n",
              "  </button>\n",
              "\n",
              "<style>\n",
              "  .colab-df-quickchart {\n",
              "      --bg-color: #E8F0FE;\n",
              "      --fill-color: #1967D2;\n",
              "      --hover-bg-color: #E2EBFA;\n",
              "      --hover-fill-color: #174EA6;\n",
              "      --disabled-fill-color: #AAA;\n",
              "      --disabled-bg-color: #DDD;\n",
              "  }\n",
              "\n",
              "  [theme=dark] .colab-df-quickchart {\n",
              "      --bg-color: #3B4455;\n",
              "      --fill-color: #D2E3FC;\n",
              "      --hover-bg-color: #434B5C;\n",
              "      --hover-fill-color: #FFFFFF;\n",
              "      --disabled-bg-color: #3B4455;\n",
              "      --disabled-fill-color: #666;\n",
              "  }\n",
              "\n",
              "  .colab-df-quickchart {\n",
              "    background-color: var(--bg-color);\n",
              "    border: none;\n",
              "    border-radius: 50%;\n",
              "    cursor: pointer;\n",
              "    display: none;\n",
              "    fill: var(--fill-color);\n",
              "    height: 32px;\n",
              "    padding: 0;\n",
              "    width: 32px;\n",
              "  }\n",
              "\n",
              "  .colab-df-quickchart:hover {\n",
              "    background-color: var(--hover-bg-color);\n",
              "    box-shadow: 0 1px 2px rgba(60, 64, 67, 0.3), 0 1px 3px 1px rgba(60, 64, 67, 0.15);\n",
              "    fill: var(--button-hover-fill-color);\n",
              "  }\n",
              "\n",
              "  .colab-df-quickchart-complete:disabled,\n",
              "  .colab-df-quickchart-complete:disabled:hover {\n",
              "    background-color: var(--disabled-bg-color);\n",
              "    fill: var(--disabled-fill-color);\n",
              "    box-shadow: none;\n",
              "  }\n",
              "\n",
              "  .colab-df-spinner {\n",
              "    border: 2px solid var(--fill-color);\n",
              "    border-color: transparent;\n",
              "    border-bottom-color: var(--fill-color);\n",
              "    animation:\n",
              "      spin 1s steps(1) infinite;\n",
              "  }\n",
              "\n",
              "  @keyframes spin {\n",
              "    0% {\n",
              "      border-color: transparent;\n",
              "      border-bottom-color: var(--fill-color);\n",
              "      border-left-color: var(--fill-color);\n",
              "    }\n",
              "    20% {\n",
              "      border-color: transparent;\n",
              "      border-left-color: var(--fill-color);\n",
              "      border-top-color: var(--fill-color);\n",
              "    }\n",
              "    30% {\n",
              "      border-color: transparent;\n",
              "      border-left-color: var(--fill-color);\n",
              "      border-top-color: var(--fill-color);\n",
              "      border-right-color: var(--fill-color);\n",
              "    }\n",
              "    40% {\n",
              "      border-color: transparent;\n",
              "      border-right-color: var(--fill-color);\n",
              "      border-top-color: var(--fill-color);\n",
              "    }\n",
              "    60% {\n",
              "      border-color: transparent;\n",
              "      border-right-color: var(--fill-color);\n",
              "    }\n",
              "    80% {\n",
              "      border-color: transparent;\n",
              "      border-right-color: var(--fill-color);\n",
              "      border-bottom-color: var(--fill-color);\n",
              "    }\n",
              "    90% {\n",
              "      border-color: transparent;\n",
              "      border-bottom-color: var(--fill-color);\n",
              "    }\n",
              "  }\n",
              "</style>\n",
              "\n",
              "  <script>\n",
              "    async function quickchart(key) {\n",
              "      const quickchartButtonEl =\n",
              "        document.querySelector('#' + key + ' button');\n",
              "      quickchartButtonEl.disabled = true;  // To prevent multiple clicks.\n",
              "      quickchartButtonEl.classList.add('colab-df-spinner');\n",
              "      try {\n",
              "        const charts = await google.colab.kernel.invokeFunction(\n",
              "            'suggestCharts', [key], {});\n",
              "      } catch (error) {\n",
              "        console.error('Error during call to suggestCharts:', error);\n",
              "      }\n",
              "      quickchartButtonEl.classList.remove('colab-df-spinner');\n",
              "      quickchartButtonEl.classList.add('colab-df-quickchart-complete');\n",
              "    }\n",
              "    (() => {\n",
              "      let quickchartButtonEl =\n",
              "        document.querySelector('#df-44ac280a-7d4c-41d7-82e9-ed9e6aaeef85 button');\n",
              "      quickchartButtonEl.style.display =\n",
              "        google.colab.kernel.accessAllowed ? 'block' : 'none';\n",
              "    })();\n",
              "  </script>\n",
              "</div>\n",
              "    </div>\n",
              "  </div>\n"
            ],
            "application/vnd.google.colaboratory.intrinsic+json": {
              "type": "dataframe",
              "summary": "{\n  \"name\": \"pd\",\n  \"rows\": 16,\n  \"fields\": [\n    {\n      \"column\": \"Model\",\n      \"properties\": {\n        \"dtype\": \"category\",\n        \"num_unique_values\": 3,\n        \"samples\": [\n          \"kNN\",\n          \"RF\",\n          \"MLP\"\n        ],\n        \"semantic_type\": \"\",\n        \"description\": \"\"\n      }\n    },\n    {\n      \"column\": \"Parameter\",\n      \"properties\": {\n        \"dtype\": \"string\",\n        \"num_unique_values\": 16,\n        \"samples\": [\n          \"algorithm\",\n          \"n_neighbors\",\n          \"max_features\"\n        ],\n        \"semantic_type\": \"\",\n        \"description\": \"\"\n      }\n    },\n    {\n      \"column\": \"D3\",\n      \"properties\": {\n        \"dtype\": \"string\",\n        \"num_unique_values\": 13,\n        \"samples\": [\n          \"constant\",\n          0.0001,\n          \"auto\"\n        ],\n        \"semantic_type\": \"\",\n        \"description\": \"\"\n      }\n    },\n    {\n      \"column\": \"C2D2\",\n      \"properties\": {\n        \"dtype\": \"string\",\n        \"num_unique_values\": 13,\n        \"samples\": [\n          \"constant\",\n          0.0001,\n          \"ball_tree\"\n        ],\n        \"semantic_type\": \"\",\n        \"description\": \"\"\n      }\n    },\n    {\n      \"column\": \"HPD2\",\n      \"properties\": {\n        \"dtype\": \"string\",\n        \"num_unique_values\": 13,\n        \"samples\": [\n          \"constant\",\n          0.0001,\n          \"ball_tree\"\n        ],\n        \"semantic_type\": \"\",\n        \"description\": \"\"\n      }\n    },\n    {\n      \"column\": \"HPD2_LCC\",\n      \"properties\": {\n        \"dtype\": \"string\",\n        \"num_unique_values\": 13,\n        \"samples\": [\n          \"constant\",\n          0.0001,\n          \"ball_tree\"\n        ],\n        \"semantic_type\": \"\",\n        \"description\": \"\"\n      }\n    }\n  ]\n}"
            }
          },
          "metadata": {},
          "execution_count": 16
        }
      ]
    },
    {
      "cell_type": "code",
      "source": [
        "from google.colab import drive\n",
        "drive.mount('/content/drive')"
      ],
      "metadata": {
        "colab": {
          "base_uri": "https://localhost:8080/"
        },
        "id": "lt1CCA3QTrcL",
        "outputId": "3b355e10-0700-48f4-9a23-659684ecdcae"
      },
      "id": "lt1CCA3QTrcL",
      "execution_count": null,
      "outputs": [
        {
          "output_type": "stream",
          "name": "stdout",
          "text": [
            "Mounted at /content/drive\n"
          ]
        }
      ]
    },
    {
      "cell_type": "code",
      "execution_count": null,
      "id": "09151e30-dfe6-4017-a0be-5fd906f06245",
      "metadata": {
        "id": "09151e30-dfe6-4017-a0be-5fd906f06245"
      },
      "outputs": [],
      "source": []
    }
  ],
  "metadata": {
    "colab": {
      "provenance": []
    },
    "kernelspec": {
      "display_name": "Python 3 (ipykernel)",
      "language": "python",
      "name": "python3"
    },
    "language_info": {
      "codemirror_mode": {
        "name": "ipython",
        "version": 3
      },
      "file_extension": ".py",
      "mimetype": "text/x-python",
      "name": "python",
      "nbconvert_exporter": "python",
      "pygments_lexer": "ipython3",
      "version": "3.8.10"
    }
  },
  "nbformat": 4,
  "nbformat_minor": 5
}